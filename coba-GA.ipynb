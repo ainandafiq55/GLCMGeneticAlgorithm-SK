{
 "cells": [
  {
   "cell_type": "code",
   "execution_count": 1,
   "id": "1d0470c9-1772-4a01-8dcf-31764f5a28bb",
   "metadata": {},
   "outputs": [],
   "source": [
    "# genetic algorithm search for continuous function optimization\n",
    "from numpy.random import randint\n",
    "from numpy.random import rand\n",
    "from sklearn.svm import SVC\n",
    "from sklearn.model_selection import train_test_split\n",
    "from sklearn.preprocessing import StandardScaler\n",
    "from sklearn.metrics import accuracy_score\n",
    "from datetime import timedelta\n",
    "\n",
    "import pandas as pd\n",
    "import time\n",
    "import numpy as np"
   ]
  },
  {
   "cell_type": "code",
   "execution_count": null,
   "id": "d4685a0f-9948-4b6e-afea-a2d08398c274",
   "metadata": {},
   "outputs": [],
   "source": [
    "# Algoritma Genetika\n",
    "def create_individual(gen_length):\n",
    "    genotype_max_value = 2 ** gen_length\n",
    "    random_genotype = randint(0, genotype_max_value)\n",
    "    return random_genotype"
   ]
  },
  {
   "cell_type": "code",
   "execution_count": null,
   "id": "ce7dc3ac-d0ee-4b93-9a62-4a346693fd98",
   "metadata": {},
   "outputs": [],
   "source": [
    "# fitness function\n",
    "def fitness(gen):\n",
    "\n",
    "    return gen/10000"
   ]
  },
  {
   "cell_type": "code",
   "execution_count": null,
   "id": "5bab91fe-c8c7-4968-b5b5-b181cb4b5737",
   "metadata": {},
   "outputs": [],
   "source": [
    "def roulette_wheel_selection(population_with_fitness):\n",
    "    total_fitness = sum(fitness for _, fitness in population_with_fitness)\n",
    "    selection_probs = [fitness/total_fitness for _, fitness in population_with_fitness]\n",
    "    parent_indices = np.random.choice(len(population_with_fitness), size=2, p=selection_probs, replace=False)\n",
    "    return [population_with_fitness[i][0] for i in parent_indices]"
   ]
  },
  {
   "cell_type": "code",
   "execution_count": null,
   "id": "a04735ce-2a96-40ec-9d9e-94c910522deb",
   "metadata": {},
   "outputs": [],
   "source": [
    "def one_point_crossover(p1, p2):\n",
    "    # children are copies of parents by default\n",
    "    c1, c2 = p1, p2\n",
    "    # check for recombination\n",
    "    \n",
    "    # select crossover point that is not on the end of the string\n",
    "    crossover_point = randint(1, 24-2) #24 = jumlah maksimal kromosom\n",
    "\n",
    "    # Convert the integers to binary strings and pad with leading zeros\n",
    "    bin1 = format(c1, '05b')\n",
    "    bin2 = format(c2, '05b')\n",
    "\n",
    "    # Perform the crossover\n",
    "    bin1_new = bin1[:crossover_point] + bin2[crossover_point:]\n",
    "    bin2_new = bin2[:crossover_point] + bin1[crossover_point:]\n",
    "\n",
    "    # Convert the new binary strings back to integers\n",
    "    new_int1 = int(bin1_new, 2)\n",
    "    new_int2 = int(bin2_new, 2)\n",
    "    \n",
    "    return [new_int1, new_int2]"
   ]
  },
  {
   "cell_type": "code",
   "execution_count": null,
   "id": "643482e9-1052-4f7f-aa5f-83418b99e019",
   "metadata": {},
   "outputs": [],
   "source": [
    "def mutate(individual):\n",
    "    #pilih bagian gen random yang dimutasi\n",
    "    mutation_point = randint(0, 24-1) #24 jumlah maks gen\n",
    "\n",
    "    #ubah int jadi biner\n",
    "    binary_string = bin(individual)[2:]\n",
    "    padded_binary_string_bin = binary_string.zfill(24)\n",
    "\n",
    "    # Convert the binary string to a list of binary\n",
    "    binary_list = [int(digit) for digit in padded_binary_string_bin]\n",
    "\n",
    "    # Flip the bit at the specified position\n",
    "    if binary_list[mutation_point] == '0':\n",
    "        binary_list[mutation_point] = '1'\n",
    "    else:\n",
    "        binary_list[mutation_point] = '0'\n",
    "\n",
    "    new_binary_string = ''.join(str(digit) for digit in binary_list)\n",
    "    new_individual = int(new_binary_string, 2)\n",
    "    return new_individual"
   ]
  }
 ],
 "metadata": {
  "kernelspec": {
   "display_name": "Python 3 (ipykernel)",
   "language": "python",
   "name": "python3"
  },
  "language_info": {
   "codemirror_mode": {
    "name": "ipython",
    "version": 3
   },
   "file_extension": ".py",
   "mimetype": "text/x-python",
   "name": "python",
   "nbconvert_exporter": "python",
   "pygments_lexer": "ipython3",
   "version": "3.12.1"
  }
 },
 "nbformat": 4,
 "nbformat_minor": 5
}
