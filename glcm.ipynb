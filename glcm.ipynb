{
 "cells": [
  {
   "cell_type": "code",
   "execution_count": 1,
   "metadata": {},
   "outputs": [],
   "source": [
    "from skimage.feature import graycomatrix, graycoprops\n",
    "from skimage.io import imread\n",
    "from skimage.color import rgb2gray\n",
    "import numpy as np\n",
    "import cv2\n",
    "import os\n",
    "from dotenv import load_dotenv"
   ]
  },
  {
   "cell_type": "code",
   "execution_count": 2,
   "metadata": {},
   "outputs": [],
   "source": [
    "load_dotenv()\n",
    "\n",
    "# Akses environment\n",
    "DATA_PATH = os.getenv('DATA_PATH')"
   ]
  },
  {
   "cell_type": "code",
   "execution_count": 3,
   "metadata": {},
   "outputs": [],
   "source": [
    "imgs = []\n",
    "labels = []\n",
    "\n",
    "for folder in os.listdir(DATA_PATH):\n",
    "    for i, img in enumerate(os.listdir(os.path.join(DATA_PATH, folder))):\n",
    "        img = cv2.imread(os.path.join(DATA_PATH, folder, img))\n",
    "        gray = cv2.cvtColor(img, cv2.COLOR_BGR2GRAY)\n",
    "        imgs.append(gray)\n",
    "        labels.append(folder)"
   ]
  },
  {
   "cell_type": "code",
   "execution_count": 4,
   "metadata": {},
   "outputs": [
    {
     "name": "stdout",
     "output_type": "stream",
     "text": [
      "Jumlah gambar:  12446\n",
      "Label:  12446\n"
     ]
    }
   ],
   "source": [
    "print('Jumlah gambar: ', len(imgs))\n",
    "print('Label: ', len(labels))"
   ]
  },
  {
   "cell_type": "code",
   "execution_count": null,
   "metadata": {},
   "outputs": [],
   "source": []
  },
  {
   "cell_type": "code",
   "execution_count": 5,
   "metadata": {},
   "outputs": [],
   "source": [
    "def calc_glcm_all_agls(img, label, props, distances=[1,2,3,4,5], agls=[0, np.pi/4, np.pi/2, 3*np.pi/4], lvl=256, sym=True, norm=True):\n",
    "    glcm = graycomatrix(img,\n",
    "                        distances=distances,\n",
    "                        angles=agls,\n",
    "                        levels=lvl,\n",
    "                        symmetric=sym,\n",
    "                        normed=norm)\n",
    "    feature = []\n",
    "    for dist in range(0, len(distances)):\n",
    "        glcm_props = [propery for name in props for propery in graycoprops(glcm, name)[dist]]\n",
    "        for item in glcm_props:\n",
    "            feature.append(item)\n",
    "            \n",
    "    feature.append(label)\n",
    "    return feature"
   ]
  },
  {
   "cell_type": "code",
   "execution_count": 6,
   "metadata": {},
   "outputs": [
    {
     "ename": "KeyboardInterrupt",
     "evalue": "",
     "output_type": "error",
     "traceback": [
      "\u001b[0;31m---------------------------------------------------------------------------\u001b[0m",
      "\u001b[0;31mKeyboardInterrupt\u001b[0m                         Traceback (most recent call last)",
      "Cell \u001b[0;32mIn[6], line 6\u001b[0m\n\u001b[1;32m      3\u001b[0m glcm_all_agls \u001b[38;5;241m=\u001b[39m []\n\u001b[1;32m      4\u001b[0m \u001b[38;5;28;01mfor\u001b[39;00m img, label \u001b[38;5;129;01min\u001b[39;00m \u001b[38;5;28mzip\u001b[39m(imgs, labels):\n\u001b[1;32m      5\u001b[0m     glcm_all_agls\u001b[38;5;241m.\u001b[39mappend(\n\u001b[0;32m----> 6\u001b[0m         \u001b[43mcalc_glcm_all_agls\u001b[49m\u001b[43m(\u001b[49m\n\u001b[1;32m      7\u001b[0m \u001b[43m            \u001b[49m\u001b[43mimg\u001b[49m\u001b[43m,\u001b[49m\n\u001b[1;32m      8\u001b[0m \u001b[43m            \u001b[49m\u001b[43mlabel\u001b[49m\u001b[43m,\u001b[49m\n\u001b[1;32m      9\u001b[0m \u001b[43m            \u001b[49m\u001b[43mprops\u001b[49m\u001b[38;5;241;43m=\u001b[39;49m\u001b[43mproperties\u001b[49m\n\u001b[1;32m     10\u001b[0m \u001b[43m        \u001b[49m\u001b[43m)\u001b[49m\n\u001b[1;32m     11\u001b[0m     )\n",
      "Cell \u001b[0;32mIn[5], line 10\u001b[0m, in \u001b[0;36mcalc_glcm_all_agls\u001b[0;34m(img, label, props, distances, agls, lvl, sym, norm)\u001b[0m\n\u001b[1;32m      8\u001b[0m feature \u001b[38;5;241m=\u001b[39m []\n\u001b[1;32m      9\u001b[0m \u001b[38;5;28;01mfor\u001b[39;00m dist \u001b[38;5;129;01min\u001b[39;00m \u001b[38;5;28mrange\u001b[39m(\u001b[38;5;241m0\u001b[39m, \u001b[38;5;28mlen\u001b[39m(distances)):\n\u001b[0;32m---> 10\u001b[0m     glcm_props \u001b[38;5;241m=\u001b[39m [propery \u001b[38;5;28;01mfor\u001b[39;00m name \u001b[38;5;129;01min\u001b[39;00m props \u001b[38;5;28;01mfor\u001b[39;00m propery \u001b[38;5;129;01min\u001b[39;00m graycoprops(glcm, name)[dist]]\n\u001b[1;32m     11\u001b[0m     \u001b[38;5;28;01mfor\u001b[39;00m item \u001b[38;5;129;01min\u001b[39;00m glcm_props:\n\u001b[1;32m     12\u001b[0m         feature\u001b[38;5;241m.\u001b[39mappend(item)\n",
      "\u001b[0;31mKeyboardInterrupt\u001b[0m: "
     ]
    }
   ],
   "source": [
    "properties = ['dissimilarity', 'correlation', 'homogeneity', 'contrast', 'ASM', 'energy']\n",
    "\n",
    "glcm_all_agls = []\n",
    "for img, label in zip(imgs, labels):\n",
    "    glcm_all_agls.append(\n",
    "        calc_glcm_all_agls(\n",
    "            img,\n",
    "            label,\n",
    "            props=properties\n",
    "        )\n",
    "    )"
   ]
  },
  {
   "cell_type": "code",
   "execution_count": 60,
   "metadata": {},
   "outputs": [],
   "source": [
    "columns = []\n",
    "angles = ['0', '45', '90', '135']\n",
    "distances = [1, 2, 3, 4, 5]\n",
    "\n",
    "for distance in distances:\n",
    "    for name in properties:\n",
    "        for ang in angles:\n",
    "            columns.append(f\"{name}_{distance}_{ang}\")\n",
    "\n",
    "columns.append(\"label\")"
   ]
  },
  {
   "cell_type": "code",
   "execution_count": 61,
   "metadata": {},
   "outputs": [],
   "source": [
    "import pandas as pd\n",
    "\n",
    "glcm_df = pd.DataFrame(glcm_all_agls,\n",
    "                        columns = columns)\n",
    "\n",
    "# Save to csv\n",
    "glcm_df.to_csv(\"glcm_kidney_illness_extended_dists.csv\")"
   ]
  }
 ],
 "metadata": {
  "kernelspec": {
   "display_name": "venv",
   "language": "python",
   "name": "python3"
  },
  "language_info": {
   "codemirror_mode": {
    "name": "ipython",
    "version": 3
   },
   "file_extension": ".py",
   "mimetype": "text/x-python",
   "name": "python",
   "nbconvert_exporter": "python",
   "pygments_lexer": "ipython3",
   "version": "3.12.2"
  }
 },
 "nbformat": 4,
 "nbformat_minor": 2
}
