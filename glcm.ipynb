{
 "cells": [
  {
   "cell_type": "code",
   "execution_count": 1,
   "metadata": {},
   "outputs": [],
   "source": [
    "from skimage.feature import graycomatrix, graycoprops\n",
    "from skimage.io import imread\n",
    "from skimage.color import rgb2gray\n",
    "import numpy as np\n",
    "import cv2\n",
    "import os\n",
    "from dotenv import load_dotenv"
   ]
  },
  {
   "cell_type": "code",
   "execution_count": 4,
   "metadata": {},
   "outputs": [],
   "source": [
    "load_dotenv()\n",
    "\n",
    "# Akses environment\n",
    "DATA_PATH = os.getenv('DATA_PATH')"
   ]
  },
  {
   "cell_type": "code",
   "execution_count": 8,
   "metadata": {},
   "outputs": [],
   "source": [
    "imgs = []\n",
    "labels = []\n",
    "\n",
    "for folder in os.listdir(DATA_PATH):\n",
    "    for i, img in enumerate(os.listdir(os.path.join(DATA_PATH, folder))):\n",
    "        img = cv2.imread(os.path.join(DATA_PATH, folder, img))\n",
    "        gray = cv2.cvtColor(img, cv2.COLOR_BGR2GRAY)\n",
    "        imgs.append(gray)\n",
    "        labels.append(folder)"
   ]
  },
  {
   "cell_type": "code",
   "execution_count": 56,
   "metadata": {},
   "outputs": [
    {
     "name": "stdout",
     "output_type": "stream",
     "text": [
      "Jumlah gambar:  12446\n",
      "Label:  12446\n"
     ]
    }
   ],
   "source": [
    "print('Jumlah gambar: ', len(imgs))\n",
    "print('Label: ', len(labels))"
   ]
  },
  {
   "cell_type": "code",
   "execution_count": 58,
   "metadata": {},
   "outputs": [],
   "source": [
    "def calc_glcm_all_agls(img, label, props, distances=[1,2,3,4,5], agls=[0, np.pi/4, np.pi/2, 3*np.pi/4], lvl=256, sym=True, norm=True):\n",
    "    glcm = graycomatrix(img,\n",
    "                        distances=distances,\n",
    "                        angles=agls,\n",
    "                        levels=lvl,\n",
    "                        symmetric=sym,\n",
    "                        normed=norm)\n",
    "    feature = []\n",
    "    for dist in range(0, len(distances)):\n",
    "        glcm_props = [propery for name in props for propery in graycoprops(glcm, name)[dist]]\n",
    "        for item in glcm_props:\n",
    "            feature.append(item)\n",
    "            \n",
    "    feature.append(label)\n",
    "    return feature"
   ]
  },
  {
   "cell_type": "code",
   "execution_count": 59,
   "metadata": {},
   "outputs": [],
   "source": [
    "properties = ['dissimilarity', 'correlation', 'homogeneity', 'contrast', 'ASM', 'energy']\n",
    "\n",
    "glcm_all_agls = []\n",
    "for img, label in zip(imgs, labels):\n",
    "    glcm_all_agls.append(\n",
    "        calc_glcm_all_agls(\n",
    "            img,\n",
    "            label,\n",
    "            props=properties\n",
    "        )\n",
    "    )"
   ]
  },
  {
   "cell_type": "code",
   "execution_count": 60,
   "metadata": {},
   "outputs": [],
   "source": [
    "columns = []\n",
    "angels = ['0', '45', '90', '135']\n",
    "distances = [1, 2, 3, 4, 5]\n",
    "\n",
    "for distance in distances:\n",
    "    for name in properties:\n",
    "        for ang in angels:\n",
    "            columns.append(f\"{name}_{distance}_{ang}\")\n",
    "\n",
    "columns.append(\"label\")"
   ]
  },
  {
   "cell_type": "code",
   "execution_count": 61,
   "metadata": {},
   "outputs": [],
   "source": [
    "import pandas as pd\n",
    "\n",
    "glcm_df = pd.DataFrame(glcm_all_agls,\n",
    "                        columns = columns)\n",
    "\n",
    "# Save to csv\n",
    "glcm_df.to_csv(\"glcm_kidney_illness_extended_dists.csv\")"
   ]
  }
 ],
 "metadata": {
  "kernelspec": {
   "display_name": "venv",
   "language": "python",
   "name": "python3"
  },
  "language_info": {
   "codemirror_mode": {
    "name": "ipython",
    "version": 3
   },
   "file_extension": ".py",
   "mimetype": "text/x-python",
   "name": "python",
   "nbconvert_exporter": "python",
   "pygments_lexer": "ipython3",
   "version": "3.12.2"
  }
 },
 "nbformat": 4,
 "nbformat_minor": 2
}
